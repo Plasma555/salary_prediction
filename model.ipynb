{
  "cells": [
    {
      "cell_type": "code",
      "execution_count": 36,
      "metadata": {
        "id": "147uJDFl2-qT"
      },
      "outputs": [],
      "source": [
        "import numpy as np\n",
        "import pandas as pd\n",
        "import pickle"
      ]
    },
    {
      "cell_type": "code",
      "execution_count": 37,
      "metadata": {
        "id": "NShnor853kwp"
      },
      "outputs": [],
      "source": [
        "df=pd.read_csv(\"Salary_Data.csv\")"
      ]
    },
    {
      "cell_type": "code",
      "execution_count": 38,
      "metadata": {
        "id": "MCf-AYXB9vno"
      },
      "outputs": [],
      "source": [
        "df=df.dropna()"
      ]
    },
    {
      "cell_type": "code",
      "execution_count": 39,
      "metadata": {
        "colab": {
          "base_uri": "https://localhost:8080/"
        },
        "id": "-ZdY2EmdM_xI",
        "outputId": "e66440f0-92f3-4147-fe0a-eea36cab3c8d"
      },
      "outputs": [
        {
          "name": "stdout",
          "output_type": "stream",
          "text": [
            "Unique values in 'Gender': ['Male' 'Female' 'Other']\n",
            "Unique values in 'Education Level': [\"Bachelor's\" \"Master's\" 'PhD' \"Bachelor's Degree\" \"Master's Degree\"\n",
            " 'High School' 'phD']\n",
            "Unique values in 'Job Title': ['Software Engineer' 'Data Analyst' 'Senior Manager' 'Sales Associate'\n",
            " 'Director' 'Marketing Analyst' 'Product Manager' 'Sales Manager'\n",
            " 'Marketing Coordinator' 'Senior Scientist' 'Software Developer'\n",
            " 'HR Manager' 'Financial Analyst' 'Project Manager' 'Customer Service Rep'\n",
            " 'Operations Manager' 'Marketing Manager' 'Senior Engineer'\n",
            " 'Data Entry Clerk' 'Sales Director' 'Business Analyst' 'VP of Operations'\n",
            " 'IT Support' 'Recruiter' 'Financial Manager' 'Social Media Specialist'\n",
            " 'Software Manager' 'Junior Developer' 'Senior Consultant'\n",
            " 'Product Designer' 'CEO' 'Accountant' 'Data Scientist'\n",
            " 'Marketing Specialist' 'Technical Writer' 'HR Generalist'\n",
            " 'Project Engineer' 'Customer Success Rep' 'Sales Executive' 'UX Designer'\n",
            " 'Operations Director' 'Network Engineer' 'Administrative Assistant'\n",
            " 'Strategy Consultant' 'Copywriter' 'Account Manager'\n",
            " 'Director of Marketing' 'Help Desk Analyst' 'Customer Service Manager'\n",
            " 'Business Intelligence Analyst' 'Event Coordinator' 'VP of Finance'\n",
            " 'Graphic Designer' 'UX Researcher' 'Social Media Manager'\n",
            " 'Director of Operations' 'Senior Data Scientist' 'Junior Accountant'\n",
            " 'Digital Marketing Manager' 'IT Manager'\n",
            " 'Customer Service Representative' 'Business Development Manager'\n",
            " 'Senior Financial Analyst' 'Web Developer' 'Research Director'\n",
            " 'Technical Support Specialist' 'Creative Director'\n",
            " 'Senior Software Engineer' 'Human Resources Director'\n",
            " 'Content Marketing Manager' 'Technical Recruiter' 'Sales Representative'\n",
            " 'Chief Technology Officer' 'Junior Designer' 'Financial Advisor'\n",
            " 'Junior Account Manager' 'Senior Project Manager' 'Principal Scientist'\n",
            " 'Supply Chain Manager' 'Senior Marketing Manager' 'Training Specialist'\n",
            " 'Research Scientist' 'Junior Software Developer'\n",
            " 'Public Relations Manager' 'Operations Analyst'\n",
            " 'Product Marketing Manager' 'Senior HR Manager' 'Junior Web Developer'\n",
            " 'Senior Project Coordinator' 'Chief Data Officer'\n",
            " 'Digital Content Producer' 'IT Support Specialist'\n",
            " 'Senior Marketing Analyst' 'Customer Success Manager'\n",
            " 'Senior Graphic Designer' 'Software Project Manager'\n",
            " 'Supply Chain Analyst' 'Senior Business Analyst'\n",
            " 'Junior Marketing Analyst' 'Office Manager' 'Principal Engineer'\n",
            " 'Junior HR Generalist' 'Senior Product Manager'\n",
            " 'Junior Operations Analyst' 'Senior HR Generalist'\n",
            " 'Sales Operations Manager' 'Senior Software Developer'\n",
            " 'Junior Web Designer' 'Senior Training Specialist'\n",
            " 'Senior Research Scientist' 'Junior Sales Representative'\n",
            " 'Junior Marketing Manager' 'Junior Data Analyst'\n",
            " 'Senior Product Marketing Manager' 'Junior Business Analyst'\n",
            " 'Senior Sales Manager' 'Junior Marketing Specialist'\n",
            " 'Junior Project Manager' 'Senior Accountant' 'Director of Sales'\n",
            " 'Junior Recruiter' 'Senior Business Development Manager'\n",
            " 'Senior Product Designer' 'Junior Customer Support Specialist'\n",
            " 'Senior IT Support Specialist' 'Junior Financial Analyst'\n",
            " 'Senior Operations Manager' 'Director of Human Resources'\n",
            " 'Junior Software Engineer' 'Senior Sales Representative'\n",
            " 'Director of Product Management' 'Junior Copywriter'\n",
            " 'Senior Marketing Coordinator' 'Senior Human Resources Manager'\n",
            " 'Junior Business Development Associate' 'Senior Account Manager'\n",
            " 'Senior Researcher' 'Junior HR Coordinator' 'Director of Finance'\n",
            " 'Junior Marketing Coordinator' 'Junior Data Scientist'\n",
            " 'Senior Operations Analyst' 'Senior Human Resources Coordinator'\n",
            " 'Senior UX Designer' 'Junior Product Manager'\n",
            " 'Senior Marketing Specialist' 'Senior IT Project Manager'\n",
            " 'Senior Quality Assurance Analyst' 'Director of Sales and Marketing'\n",
            " 'Senior Account Executive' 'Director of Business Development'\n",
            " 'Junior Social Media Manager' 'Senior Human Resources Specialist'\n",
            " 'Senior Data Analyst' 'Director of Human Capital'\n",
            " 'Junior Advertising Coordinator' 'Junior UX Designer'\n",
            " 'Senior Marketing Director' 'Senior IT Consultant'\n",
            " 'Senior Financial Advisor' 'Junior Business Operations Analyst'\n",
            " 'Junior Social Media Specialist' 'Senior Product Development Manager'\n",
            " 'Junior Operations Manager' 'Senior Software Architect'\n",
            " 'Junior Research Scientist' 'Senior Financial Manager'\n",
            " 'Senior HR Specialist' 'Senior Data Engineer'\n",
            " 'Junior Operations Coordinator' 'Director of HR'\n",
            " 'Senior Operations Coordinator' 'Junior Financial Advisor'\n",
            " 'Director of Engineering' 'Software Engineer Manager'\n",
            " 'Back end Developer' 'Senior Project Engineer' 'Full Stack Engineer'\n",
            " 'Front end Developer' 'Front End Developer' 'Director of Data Science'\n",
            " 'Human Resources Coordinator' 'Junior Sales Associate'\n",
            " 'Human Resources Manager' 'Juniour HR Generalist'\n",
            " 'Juniour HR Coordinator' 'Digital Marketing Specialist' 'Receptionist'\n",
            " 'Marketing Director' 'Social Media Man' 'Delivery Driver']\n"
          ]
        }
      ],
      "source": [
        "\n",
        "# Get the list of column names\n",
        "categorical_columns = df.select_dtypes(include=['object']).columns\n",
        "\n",
        "\n",
        "# Iterate over each categorical column\n",
        "for column in categorical_columns:\n",
        "    unique_values = df[column].unique()\n",
        "    print(f\"Unique values in '{column}': {unique_values}\")\n",
        "\n"
      ]
    },
    {
      "cell_type": "code",
      "execution_count": 40,
      "metadata": {
        "colab": {
          "base_uri": "https://localhost:8080/"
        },
        "id": "zkkoulo1vXj2",
        "outputId": "c131f90d-68fe-44d9-93b9-8618b699fb80"
      },
      "outputs": [
        {
          "name": "stdout",
          "output_type": "stream",
          "text": [
            "Unique values in 'Job Title': ['Engineering' 'Analytics' 'Management' 'Sales' 'Marketing' 'Science'\n",
            " 'Human Resources' 'Finance' 'Customer Service' 'Administrative' 'IT'\n",
            " 'Consulting' 'Design' 'Junior Data Scientist' 'Senior Operations Analyst'\n",
            " 'Senior Human Resources Coordinator' 'Senior UX Designer'\n",
            " 'Junior Product Manager' 'Senior Marketing Specialist'\n",
            " 'Senior IT Project Manager' 'Senior Quality Assurance Analyst'\n",
            " 'Director of Sales and Marketing' 'Senior Account Executive'\n",
            " 'Director of Business Development' 'Junior Social Media Manager'\n",
            " 'Senior Human Resources Specialist' 'Senior Data Analyst'\n",
            " 'Director of Human Capital' 'Junior Advertising Coordinator'\n",
            " 'Junior UX Designer' 'Senior Marketing Director' 'Senior IT Consultant'\n",
            " 'Senior Financial Advisor' 'Junior Business Operations Analyst'\n",
            " 'Junior Social Media Specialist' 'Senior Product Development Manager'\n",
            " 'Junior Operations Manager' 'Senior Software Architect'\n",
            " 'Junior Research Scientist' 'Senior Financial Manager'\n",
            " 'Senior HR Specialist' 'Senior Data Engineer'\n",
            " 'Junior Operations Coordinator' 'Director of HR'\n",
            " 'Senior Operations Coordinator' 'Junior Financial Advisor'\n",
            " 'Director of Engineering' 'Software Engineer Manager'\n",
            " 'Back end Developer' 'Senior Project Engineer' 'Full Stack Engineer'\n",
            " 'Front end Developer' 'Front End Developer' 'Director of Data Science'\n",
            " 'Human Resources Coordinator' 'Junior Sales Associate'\n",
            " 'Human Resources Manager' 'Juniour HR Generalist'\n",
            " 'Juniour HR Coordinator' 'Digital Marketing Specialist' 'Receptionist'\n",
            " 'Marketing Director' 'Social Media Man' 'Delivery Driver']\n"
          ]
        }
      ],
      "source": [
        "\n",
        "\n",
        "# Define a dictionary to map job titles to broader categories\n",
        "title_mapping = {\n",
        "    'Software Engineer': 'Engineering',\n",
        "    'Data Analyst': 'Analytics',\n",
        "    'Senior Manager': 'Management',\n",
        "    'Sales Associate': 'Sales',\n",
        "    'Director': 'Management',\n",
        "    'Marketing Analyst': 'Marketing',\n",
        "    'Product Manager': 'Management',\n",
        "    'Sales Manager': 'Management',\n",
        "    'Marketing Coordinator': 'Marketing',\n",
        "    'Senior Scientist': 'Science',\n",
        "    'Software Developer': 'Engineering',\n",
        "    'HR Manager': 'Human Resources',\n",
        "    'Financial Analyst': 'Finance',\n",
        "    'Project Manager': 'Management',\n",
        "    'Customer Service Rep': 'Customer Service',\n",
        "    'Operations Manager': 'Management',\n",
        "    'Marketing Manager': 'Management',\n",
        "    'Senior Engineer': 'Engineering',\n",
        "    'Data Entry Clerk': 'Administrative',\n",
        "    'Sales Director': 'Management',\n",
        "    'Business Analyst': 'Analytics',\n",
        "    'VP of Operations': 'Management',\n",
        "    'IT Support': 'IT',\n",
        "    'Recruiter': 'Human Resources',\n",
        "    'Financial Manager': 'Finance',\n",
        "    'Social Media Specialist': 'Marketing',\n",
        "    'Software Manager': 'Management',\n",
        "    'Junior Developer': 'Engineering',\n",
        "    'Senior Consultant': 'Consulting',\n",
        "    'Product Designer': 'Design',\n",
        "    'CEO': 'Management',\n",
        "    'Accountant': 'Finance',\n",
        "    'Data Scientist': 'Analytics',\n",
        "    'Marketing Specialist': 'Marketing',\n",
        "    'Technical Writer': 'IT',\n",
        "    'HR Generalist': 'Human Resources',\n",
        "    'Project Engineer': 'Engineering',\n",
        "    'Customer Success Rep': 'Customer Service',\n",
        "    'Sales Executive': 'Sales',\n",
        "    'UX Designer': 'Design',\n",
        "    'Operations Director': 'Management',\n",
        "    'Network Engineer': 'IT',\n",
        "    'Administrative Assistant': 'Administrative',\n",
        "    'Strategy Consultant': 'Consulting',\n",
        "    'Copywriter': 'Marketing',\n",
        "    'Account Manager': 'Management',\n",
        "    'Director of Marketing': 'Management',\n",
        "    'Help Desk Analyst': 'IT',\n",
        "    'Customer Service Manager': 'Management',\n",
        "    'Business Intelligence Analyst': 'Analytics',\n",
        "    'Event Coordinator': 'Management',\n",
        "    'VP of Finance': 'Finance',\n",
        "    'Graphic Designer': 'Design',\n",
        "    'UX Researcher': 'Design',\n",
        "    'Social Media Manager': 'Marketing',\n",
        "    'Director of Operations': 'Management',\n",
        "    'Senior Data Scientist': 'Analytics',\n",
        "    'Junior Accountant': 'Finance',\n",
        "    'Digital Marketing Manager': 'Marketing',\n",
        "    'IT Manager': 'IT',\n",
        "    'Customer Service Representative': 'Customer Service',\n",
        "    'Business Development Manager': 'Management',\n",
        "    'Senior Financial Analyst': 'Finance',\n",
        "    'Web Developer': 'Engineering',\n",
        "    'Research Director': 'Management',\n",
        "    'Technical Support Specialist': 'IT',\n",
        "    'Creative Director': 'Design',\n",
        "    'Senior Software Engineer': 'Engineering',\n",
        "    'Human Resources Director': 'Human Resources',\n",
        "    'Content Marketing Manager': 'Marketing',\n",
        "    'Technical Recruiter': 'Human Resources',\n",
        "    'Sales Representative': 'Sales',\n",
        "    'Chief Technology Officer': 'Management',\n",
        "    'Junior Designer': 'Design',\n",
        "    'Financial Advisor': 'Finance',\n",
        "    'Junior Account Manager': 'Management',\n",
        "    'Senior Project Manager': 'Management',\n",
        "    'Principal Scientist': 'Science',\n",
        "    'Supply Chain Manager': 'Management',\n",
        "    'Senior Marketing Manager': 'Marketing',\n",
        "    'Training Specialist': 'Human Resources',\n",
        "    'Research Scientist': 'Science',\n",
        "    'Junior Software Developer': 'Engineering',\n",
        "    'Public Relations Manager': 'Marketing',\n",
        "    'Operations Analyst': 'Management',\n",
        "    'Product Marketing Manager': 'Marketing',\n",
        "    'Senior HR Manager': 'Human Resources',\n",
        "    'Junior Web Developer': 'Engineering',\n",
        "    'Senior Project Coordinator': 'Management',\n",
        "    'Chief Data Officer': 'Management',\n",
        "    'Digital Content Producer': 'Marketing',\n",
        "    'IT Support Specialist': 'IT',\n",
        "    'Senior Marketing Analyst': 'Marketing',\n",
        "    'Customer Success Manager': 'Customer Service',\n",
        "    'Senior Graphic Designer': 'Design',\n",
        "    'Software Project Manager': 'Management',\n",
        "    'Supply Chain Analyst': 'Management',\n",
        "    'Senior Business Analyst': 'Analytics',\n",
        "    'Junior Marketing Analyst': 'Marketing',\n",
        "    'Office Manager': 'Administrative',\n",
        "    'Principal Engineer': 'Engineering',\n",
        "    'Junior HR Generalist': 'Human Resources',\n",
        "    'Senior Product Manager': 'Management',\n",
        "    'Junior Operations Analyst': 'Management',\n",
        "    'Senior HR Generalist': 'Human Resources',\n",
        "    'Sales Operations Manager': 'Management',\n",
        "    'Senior Software Developer': 'Engineering',\n",
        "    'Junior Web Designer': 'Design',\n",
        "    'Senior Training Specialist': 'Human Resources',\n",
        "    'Senior Research Scientist': 'Science',\n",
        "    'Junior Sales Representative': 'Sales',\n",
        "    'Junior Marketing Manager': 'Marketing',\n",
        "    'Junior Data Analyst': 'Analytics',\n",
        "    'Senior Product Marketing Manager': 'Marketing',\n",
        "    'Junior Business Analyst': 'Analytics',\n",
        "    'Senior Sales Manager': 'Management',\n",
        "    'Junior Marketing Specialist': 'Marketing',\n",
        "    'Junior Project Manager': 'Management',\n",
        "    'Senior Accountant': 'Finance',\n",
        "    'Director of Sales': 'Management',\n",
        "    'Junior Recruiter': 'Human Resources',\n",
        "    'Senior Business Development Manager': 'Management',\n",
        "    'Senior Product Designer': 'Design',\n",
        "    'Junior Customer Support Specialist': 'Customer Service',\n",
        "    'Senior IT Support Specialist': 'IT',\n",
        "    'Junior Financial Analyst': 'Finance',\n",
        "    'Senior Operations Manager': 'Management',\n",
        "    'Director of Human Resources': 'Human Resources',\n",
        "    'Junior Software Engineer': 'Engineering',\n",
        "    'Senior Sales Representative': 'Sales',\n",
        "    'Director of Product Management': 'Management',\n",
        "    'Junior Copywriter': 'Marketing',\n",
        "    'Senior Marketing Coordinator': 'Marketing',\n",
        "    'Senior Human Resources Manager': 'Human Resources',\n",
        "    'Junior Business Development Associate': 'Management',\n",
        "    'Senior Account Manager': 'Management',\n",
        "    'Senior Researcher': 'Science',\n",
        "    'Junior HR Coordinator': 'Human Resources',\n",
        "    'Director of Finance': 'Finance',\n",
        "    'Junior Marketing Coordinator': 'Marketing',\n",
        "    # Add more mappings as needed\n",
        "}\n",
        "\n",
        "# Apply the mapping to the 'Job Title' column\n",
        "df['Job Title'] = df['Job Title'].map(title_mapping).fillna(df['Job Title'])\n",
        "\n",
        "# Display the reduced unique values in 'Job Title'\n",
        "unique_job_titles = df['Job Title'].unique()\n",
        "print(\"Unique values in 'Job Title':\", unique_job_titles)\n"
      ]
    },
    {
      "cell_type": "code",
      "execution_count": 41,
      "metadata": {
        "colab": {
          "base_uri": "https://localhost:8080/"
        },
        "id": "0rBiKbX5xAc-",
        "outputId": "fd18cc57-36f1-4585-c1fd-70d0927f0bab"
      },
      "outputs": [
        {
          "name": "stdout",
          "output_type": "stream",
          "text": [
            "['Engineering' 'Management' 'Sales' 'Marketing' 'HR' 'Support' 'Creative'\n",
            " 'Finance']\n"
          ]
        }
      ],
      "source": [
        "\n",
        "\n",
        "# Define a dictionary to map job title categories to broader groups\n",
        "category_mapping = {\n",
        "    'Engineering': 'Engineering',\n",
        "    'Analytics': 'Engineering',\n",
        "    'Management': 'Management',\n",
        "    'Sales': 'Sales',\n",
        "    'Marketing': 'Marketing',\n",
        "    'Science': 'Engineering',\n",
        "    'Human Resources': 'HR',\n",
        "    'Finance': 'Support',\n",
        "    'Customer Service': 'Support',\n",
        "    'Administrative': 'Support',\n",
        "    'IT': 'Engineering',\n",
        "    'Consulting': 'Management',\n",
        "    'Design': 'Creative',\n",
        "    'Junior Data Scientist': 'Engineering',\n",
        "    'Senior Operations Analyst': 'Engineering',\n",
        "    'Senior Human Resources Coordinator': 'HR',\n",
        "    'Senior UX Designer': 'Creative',\n",
        "    'Junior Product Manager': 'Management',\n",
        "    'Senior Marketing Specialist': 'Marketing',\n",
        "    'Senior IT Project Manager': 'Management',\n",
        "    'Senior Quality Assurance Analyst': 'Engineering',\n",
        "    'Director of Sales and Marketing': 'Management',\n",
        "    'Senior Account Executive': 'Sales',\n",
        "    'Director of Business Development': 'Management',\n",
        "    'Junior Social Media Manager': 'Marketing',\n",
        "    'Senior Human Resources Specialist': 'HR',\n",
        "    'Senior Data Analyst': 'Engineering',\n",
        "    'Director of Human Capital': 'Management',\n",
        "    'Junior Advertising Coordinator': 'Marketing',\n",
        "    'Junior UX Designer': 'Creative',\n",
        "    'Senior Marketing Director': 'Marketing',\n",
        "    'Senior IT Consultant': 'Engineering',\n",
        "    'Senior Financial Advisor': 'Finance',\n",
        "    'Junior Business Operations Analyst': 'Management',\n",
        "    'Junior Social Media Specialist': 'Marketing',\n",
        "    'Senior Product Development Manager': 'Management',\n",
        "    'Junior Operations Manager': 'Management',\n",
        "    'Senior Software Architect': 'Engineering',\n",
        "    'Junior Research Scientist': 'Engineering',\n",
        "    'Senior Financial Manager': 'Finance',\n",
        "    'Senior HR Specialist': 'HR',\n",
        "    'Senior Data Engineer': 'Engineering',\n",
        "    'Junior Operations Coordinator': 'Management',\n",
        "    'Director of HR': 'HR',\n",
        "    'Senior Operations Coordinator': 'Management',\n",
        "    'Junior Financial Advisor': 'Finance',\n",
        "    'Director of Engineering': 'Engineering',\n",
        "    'Software Engineer Manager': 'Engineering',\n",
        "    'Back end Developer': 'Engineering',\n",
        "    'Senior Project Engineer': 'Engineering',\n",
        "    'Full Stack Engineer': 'Engineering',\n",
        "    'Front end Developer': 'Engineering',\n",
        "    'Developer': 'Engineering',\n",
        "    'Front End Developer': 'Engineering',\n",
        "    'Director of Data Science': 'Engineering',\n",
        "    'Human Resources Coordinator': 'HR',\n",
        "    'Junior Sales Associate': 'Sales',\n",
        "    'Human Resources Manager': 'HR',\n",
        "    'Juniour HR Generalist': 'HR',\n",
        "    'Juniour HR Coordinator': 'HR',\n",
        "    'Digital Marketing Specialist': 'Marketing',\n",
        "    'Receptionist': 'Support',\n",
        "    'Marketing Director': 'Marketing',\n",
        "    'Social M': 'Marketing',\n",
        "    'Social Media Man': 'Marketing',\n",
        "    'Delivery Driver': 'Support'\n",
        "}\n",
        "\n",
        "# Map the job titles to categories\n",
        "df['Category'] = df['Job Title'].map(category_mapping)\n",
        "\n",
        "# Display the updated dataset\n",
        "print(df['Category'].unique())\n"
      ]
    },
    {
      "cell_type": "code",
      "execution_count": 42,
      "metadata": {
        "colab": {
          "base_uri": "https://localhost:8080/"
        },
        "id": "NkT9wn9BxSGm",
        "outputId": "0c6532e7-02c3-4492-ff82-2209738a9373"
      },
      "outputs": [
        {
          "name": "stdout",
          "output_type": "stream",
          "text": [
            "[\"Bachelor's Degree\" \"Master's Degree\" 'PhD' 'High School']\n"
          ]
        }
      ],
      "source": [
        "education_mapping = {\n",
        "    \"Bachelor's\": \"Bachelor's Degree\",\n",
        "    \"Master's\": \"Master's Degree\",\n",
        "    'phD': 'PhD',\n",
        "    'High School': 'High School'\n",
        "}\n",
        "\n",
        "# Map the education levels to standardized format\n",
        "df['Education Level'] = df['Education Level'].map(education_mapping).fillna(df['Education Level'])\n",
        "\n",
        "# Display the unique values in the \"Education Level\" column\n",
        "print(df['Education Level'].unique())"
      ]
    },
    {
      "cell_type": "code",
      "execution_count": 43,
      "metadata": {
        "colab": {
          "base_uri": "https://localhost:8080/"
        },
        "id": "1XkhBB8Mx7LE",
        "outputId": "bd6775f9-d815-41c7-8690-b7ef914cf3b0"
      },
      "outputs": [
        {
          "name": "stdout",
          "output_type": "stream",
          "text": [
            "Number of Others:  14\n"
          ]
        }
      ],
      "source": [
        "count = df['Gender'].value_counts()['Other']\n",
        "\n",
        "# Display the count\n",
        "print(\"Number of Others: \", count)"
      ]
    },
    {
      "cell_type": "code",
      "execution_count": 44,
      "metadata": {
        "id": "EZ3lbBIiydxc"
      },
      "outputs": [],
      "source": [
        "df = df[df['Gender'] != 'Other']"
      ]
    },
    {
      "cell_type": "code",
      "execution_count": 45,
      "metadata": {
        "colab": {
          "base_uri": "https://localhost:8080/"
        },
        "id": "cPZjbUAWyrGk",
        "outputId": "d338064a-ca30-4be4-9cf2-41454db70302"
      },
      "outputs": [
        {
          "name": "stdout",
          "output_type": "stream",
          "text": [
            "NaN counts per column:\n",
            "Age                    0\n",
            "Gender                 0\n",
            "Education Level        0\n",
            "Job Title              0\n",
            "Years of Experience    0\n",
            "Salary                 0\n",
            "Category               0\n",
            "dtype: int64\n"
          ]
        }
      ],
      "source": [
        "nan_counts = df.isna().sum()\n",
        "\n",
        "# Display the number of NaN values in each column\n",
        "print(\"NaN counts per column:\")\n",
        "print(nan_counts)"
      ]
    },
    {
      "cell_type": "code",
      "execution_count": 46,
      "metadata": {
        "id": "J2hk9cE81Whu"
      },
      "outputs": [],
      "source": [
        "df = df.dropna()"
      ]
    },
    {
      "cell_type": "code",
      "execution_count": 47,
      "metadata": {
        "colab": {
          "base_uri": "https://localhost:8080/"
        },
        "id": "5gkHo8D11vSR",
        "outputId": "e383c765-6c7a-4886-de98-64fdfb36ed2a"
      },
      "outputs": [
        {
          "name": "stdout",
          "output_type": "stream",
          "text": [
            "Unique values in 'Gender': ['Male' 'Female']\n",
            "Unique values in 'Education Level': [\"Bachelor's Degree\" \"Master's Degree\" 'PhD' 'High School']\n",
            "Unique values in 'Job Title': ['Engineering' 'Analytics' 'Management' 'Sales' 'Marketing' 'Science'\n",
            " 'Human Resources' 'Finance' 'Customer Service' 'Administrative' 'IT'\n",
            " 'Consulting' 'Design' 'Junior Data Scientist' 'Senior Operations Analyst'\n",
            " 'Senior Human Resources Coordinator' 'Senior UX Designer'\n",
            " 'Junior Product Manager' 'Senior Marketing Specialist'\n",
            " 'Senior IT Project Manager' 'Senior Quality Assurance Analyst'\n",
            " 'Director of Sales and Marketing' 'Senior Account Executive'\n",
            " 'Director of Business Development' 'Junior Social Media Manager'\n",
            " 'Senior Human Resources Specialist' 'Senior Data Analyst'\n",
            " 'Director of Human Capital' 'Junior Advertising Coordinator'\n",
            " 'Junior UX Designer' 'Senior Marketing Director' 'Senior IT Consultant'\n",
            " 'Senior Financial Advisor' 'Junior Business Operations Analyst'\n",
            " 'Junior Social Media Specialist' 'Senior Product Development Manager'\n",
            " 'Junior Operations Manager' 'Senior Software Architect'\n",
            " 'Junior Research Scientist' 'Senior Financial Manager'\n",
            " 'Senior HR Specialist' 'Senior Data Engineer'\n",
            " 'Junior Operations Coordinator' 'Director of HR'\n",
            " 'Senior Operations Coordinator' 'Junior Financial Advisor'\n",
            " 'Director of Engineering' 'Software Engineer Manager'\n",
            " 'Back end Developer' 'Senior Project Engineer' 'Full Stack Engineer'\n",
            " 'Front end Developer' 'Front End Developer' 'Director of Data Science'\n",
            " 'Human Resources Coordinator' 'Junior Sales Associate'\n",
            " 'Human Resources Manager' 'Juniour HR Generalist'\n",
            " 'Juniour HR Coordinator' 'Digital Marketing Specialist' 'Receptionist'\n",
            " 'Marketing Director' 'Social Media Man' 'Delivery Driver']\n",
            "Unique values in 'Category': ['Engineering' 'Management' 'Sales' 'Marketing' 'HR' 'Support' 'Creative'\n",
            " 'Finance']\n"
          ]
        }
      ],
      "source": [
        "categorical_columns = df.select_dtypes(include=['object']).columns\n",
        "\n",
        "\n",
        "# Iterate over each categorical column\n",
        "for column in categorical_columns:\n",
        "    unique_values = df[column].unique()\n",
        "    print(f\"Unique values in '{column}': {unique_values}\")"
      ]
    },
    {
      "cell_type": "code",
      "execution_count": 48,
      "metadata": {
        "colab": {
          "base_uri": "https://localhost:8080/",
          "height": 206
        },
        "id": "60-hKu5l17UC",
        "outputId": "e767002d-751b-4e61-b09b-ffe5976f7846"
      },
      "outputs": [
        {
          "data": {
            "text/html": [
              "\n",
              "  <div id=\"df-ac7ec127-a06d-46b9-879b-a18e41eff8d3\">\n",
              "    <div class=\"colab-df-container\">\n",
              "      <div>\n",
              "<style scoped>\n",
              "    .dataframe tbody tr th:only-of-type {\n",
              "        vertical-align: middle;\n",
              "    }\n",
              "\n",
              "    .dataframe tbody tr th {\n",
              "        vertical-align: top;\n",
              "    }\n",
              "\n",
              "    .dataframe thead th {\n",
              "        text-align: right;\n",
              "    }\n",
              "</style>\n",
              "<table border=\"1\" class=\"dataframe\">\n",
              "  <thead>\n",
              "    <tr style=\"text-align: right;\">\n",
              "      <th></th>\n",
              "      <th>Age</th>\n",
              "      <th>Gender</th>\n",
              "      <th>Education Level</th>\n",
              "      <th>Job Title</th>\n",
              "      <th>Years of Experience</th>\n",
              "      <th>Salary</th>\n",
              "      <th>Category</th>\n",
              "    </tr>\n",
              "  </thead>\n",
              "  <tbody>\n",
              "    <tr>\n",
              "      <th>0</th>\n",
              "      <td>32.0</td>\n",
              "      <td>Male</td>\n",
              "      <td>Bachelor's Degree</td>\n",
              "      <td>Engineering</td>\n",
              "      <td>5.0</td>\n",
              "      <td>90000.0</td>\n",
              "      <td>Engineering</td>\n",
              "    </tr>\n",
              "    <tr>\n",
              "      <th>1</th>\n",
              "      <td>28.0</td>\n",
              "      <td>Female</td>\n",
              "      <td>Master's Degree</td>\n",
              "      <td>Analytics</td>\n",
              "      <td>3.0</td>\n",
              "      <td>65000.0</td>\n",
              "      <td>Engineering</td>\n",
              "    </tr>\n",
              "    <tr>\n",
              "      <th>2</th>\n",
              "      <td>45.0</td>\n",
              "      <td>Male</td>\n",
              "      <td>PhD</td>\n",
              "      <td>Management</td>\n",
              "      <td>15.0</td>\n",
              "      <td>150000.0</td>\n",
              "      <td>Management</td>\n",
              "    </tr>\n",
              "    <tr>\n",
              "      <th>3</th>\n",
              "      <td>36.0</td>\n",
              "      <td>Female</td>\n",
              "      <td>Bachelor's Degree</td>\n",
              "      <td>Sales</td>\n",
              "      <td>7.0</td>\n",
              "      <td>60000.0</td>\n",
              "      <td>Sales</td>\n",
              "    </tr>\n",
              "    <tr>\n",
              "      <th>4</th>\n",
              "      <td>52.0</td>\n",
              "      <td>Male</td>\n",
              "      <td>Master's Degree</td>\n",
              "      <td>Management</td>\n",
              "      <td>20.0</td>\n",
              "      <td>200000.0</td>\n",
              "      <td>Management</td>\n",
              "    </tr>\n",
              "  </tbody>\n",
              "</table>\n",
              "</div>\n",
              "      <button class=\"colab-df-convert\" onclick=\"convertToInteractive('df-ac7ec127-a06d-46b9-879b-a18e41eff8d3')\"\n",
              "              title=\"Convert this dataframe to an interactive table.\"\n",
              "              style=\"display:none;\">\n",
              "        \n",
              "  <svg xmlns=\"http://www.w3.org/2000/svg\" height=\"24px\"viewBox=\"0 0 24 24\"\n",
              "       width=\"24px\">\n",
              "    <path d=\"M0 0h24v24H0V0z\" fill=\"none\"/>\n",
              "    <path d=\"M18.56 5.44l.94 2.06.94-2.06 2.06-.94-2.06-.94-.94-2.06-.94 2.06-2.06.94zm-11 1L8.5 8.5l.94-2.06 2.06-.94-2.06-.94L8.5 2.5l-.94 2.06-2.06.94zm10 10l.94 2.06.94-2.06 2.06-.94-2.06-.94-.94-2.06-.94 2.06-2.06.94z\"/><path d=\"M17.41 7.96l-1.37-1.37c-.4-.4-.92-.59-1.43-.59-.52 0-1.04.2-1.43.59L10.3 9.45l-7.72 7.72c-.78.78-.78 2.05 0 2.83L4 21.41c.39.39.9.59 1.41.59.51 0 1.02-.2 1.41-.59l7.78-7.78 2.81-2.81c.8-.78.8-2.07 0-2.86zM5.41 20L4 18.59l7.72-7.72 1.47 1.35L5.41 20z\"/>\n",
              "  </svg>\n",
              "      </button>\n",
              "      \n",
              "  <style>\n",
              "    .colab-df-container {\n",
              "      display:flex;\n",
              "      flex-wrap:wrap;\n",
              "      gap: 12px;\n",
              "    }\n",
              "\n",
              "    .colab-df-convert {\n",
              "      background-color: #E8F0FE;\n",
              "      border: none;\n",
              "      border-radius: 50%;\n",
              "      cursor: pointer;\n",
              "      display: none;\n",
              "      fill: #1967D2;\n",
              "      height: 32px;\n",
              "      padding: 0 0 0 0;\n",
              "      width: 32px;\n",
              "    }\n",
              "\n",
              "    .colab-df-convert:hover {\n",
              "      background-color: #E2EBFA;\n",
              "      box-shadow: 0px 1px 2px rgba(60, 64, 67, 0.3), 0px 1px 3px 1px rgba(60, 64, 67, 0.15);\n",
              "      fill: #174EA6;\n",
              "    }\n",
              "\n",
              "    [theme=dark] .colab-df-convert {\n",
              "      background-color: #3B4455;\n",
              "      fill: #D2E3FC;\n",
              "    }\n",
              "\n",
              "    [theme=dark] .colab-df-convert:hover {\n",
              "      background-color: #434B5C;\n",
              "      box-shadow: 0px 1px 3px 1px rgba(0, 0, 0, 0.15);\n",
              "      filter: drop-shadow(0px 1px 2px rgba(0, 0, 0, 0.3));\n",
              "      fill: #FFFFFF;\n",
              "    }\n",
              "  </style>\n",
              "\n",
              "      <script>\n",
              "        const buttonEl =\n",
              "          document.querySelector('#df-ac7ec127-a06d-46b9-879b-a18e41eff8d3 button.colab-df-convert');\n",
              "        buttonEl.style.display =\n",
              "          google.colab.kernel.accessAllowed ? 'block' : 'none';\n",
              "\n",
              "        async function convertToInteractive(key) {\n",
              "          const element = document.querySelector('#df-ac7ec127-a06d-46b9-879b-a18e41eff8d3');\n",
              "          const dataTable =\n",
              "            await google.colab.kernel.invokeFunction('convertToInteractive',\n",
              "                                                     [key], {});\n",
              "          if (!dataTable) return;\n",
              "\n",
              "          const docLinkHtml = 'Like what you see? Visit the ' +\n",
              "            '<a target=\"_blank\" href=https://colab.research.google.com/notebooks/data_table.ipynb>data table notebook</a>'\n",
              "            + ' to learn more about interactive tables.';\n",
              "          element.innerHTML = '';\n",
              "          dataTable['output_type'] = 'display_data';\n",
              "          await google.colab.output.renderOutput(dataTable, element);\n",
              "          const docLink = document.createElement('div');\n",
              "          docLink.innerHTML = docLinkHtml;\n",
              "          element.appendChild(docLink);\n",
              "        }\n",
              "      </script>\n",
              "    </div>\n",
              "  </div>\n",
              "  "
            ],
            "text/plain": [
              "    Age  Gender    Education Level    Job Title  Years of Experience  \\\n",
              "0  32.0    Male  Bachelor's Degree  Engineering                  5.0   \n",
              "1  28.0  Female    Master's Degree    Analytics                  3.0   \n",
              "2  45.0    Male                PhD   Management                 15.0   \n",
              "3  36.0  Female  Bachelor's Degree        Sales                  7.0   \n",
              "4  52.0    Male    Master's Degree   Management                 20.0   \n",
              "\n",
              "     Salary     Category  \n",
              "0   90000.0  Engineering  \n",
              "1   65000.0  Engineering  \n",
              "2  150000.0   Management  \n",
              "3   60000.0        Sales  \n",
              "4  200000.0   Management  "
            ]
          },
          "execution_count": 48,
          "metadata": {},
          "output_type": "execute_result"
        }
      ],
      "source": [
        "df.head()"
      ]
    },
    {
      "cell_type": "code",
      "execution_count": 49,
      "metadata": {
        "id": "pp2I5Jcz185F"
      },
      "outputs": [],
      "source": [
        "df=df.drop('Job Title',axis=1)"
      ]
    },
    {
      "cell_type": "code",
      "execution_count": 50,
      "metadata": {
        "id": "DAA4LyMn2Ojf"
      },
      "outputs": [],
      "source": [
        "df = df.rename(columns={'Category': 'Job Title'})"
      ]
    },
    {
      "cell_type": "code",
      "execution_count": 51,
      "metadata": {
        "colab": {
          "base_uri": "https://localhost:8080/",
          "height": 206
        },
        "id": "-_J1qzIY2vwy",
        "outputId": "57b48072-87d6-4acf-a3b5-36366b04df4e"
      },
      "outputs": [
        {
          "data": {
            "text/html": [
              "\n",
              "  <div id=\"df-5f95b63c-2baa-4b0b-9a8f-e73b88ac5973\">\n",
              "    <div class=\"colab-df-container\">\n",
              "      <div>\n",
              "<style scoped>\n",
              "    .dataframe tbody tr th:only-of-type {\n",
              "        vertical-align: middle;\n",
              "    }\n",
              "\n",
              "    .dataframe tbody tr th {\n",
              "        vertical-align: top;\n",
              "    }\n",
              "\n",
              "    .dataframe thead th {\n",
              "        text-align: right;\n",
              "    }\n",
              "</style>\n",
              "<table border=\"1\" class=\"dataframe\">\n",
              "  <thead>\n",
              "    <tr style=\"text-align: right;\">\n",
              "      <th></th>\n",
              "      <th>Age</th>\n",
              "      <th>Gender</th>\n",
              "      <th>Education Level</th>\n",
              "      <th>Years of Experience</th>\n",
              "      <th>Salary</th>\n",
              "      <th>Job Title</th>\n",
              "    </tr>\n",
              "  </thead>\n",
              "  <tbody>\n",
              "    <tr>\n",
              "      <th>0</th>\n",
              "      <td>32.0</td>\n",
              "      <td>Male</td>\n",
              "      <td>Bachelor's Degree</td>\n",
              "      <td>5.0</td>\n",
              "      <td>90000.0</td>\n",
              "      <td>Engineering</td>\n",
              "    </tr>\n",
              "    <tr>\n",
              "      <th>1</th>\n",
              "      <td>28.0</td>\n",
              "      <td>Female</td>\n",
              "      <td>Master's Degree</td>\n",
              "      <td>3.0</td>\n",
              "      <td>65000.0</td>\n",
              "      <td>Engineering</td>\n",
              "    </tr>\n",
              "    <tr>\n",
              "      <th>2</th>\n",
              "      <td>45.0</td>\n",
              "      <td>Male</td>\n",
              "      <td>PhD</td>\n",
              "      <td>15.0</td>\n",
              "      <td>150000.0</td>\n",
              "      <td>Management</td>\n",
              "    </tr>\n",
              "    <tr>\n",
              "      <th>3</th>\n",
              "      <td>36.0</td>\n",
              "      <td>Female</td>\n",
              "      <td>Bachelor's Degree</td>\n",
              "      <td>7.0</td>\n",
              "      <td>60000.0</td>\n",
              "      <td>Sales</td>\n",
              "    </tr>\n",
              "    <tr>\n",
              "      <th>4</th>\n",
              "      <td>52.0</td>\n",
              "      <td>Male</td>\n",
              "      <td>Master's Degree</td>\n",
              "      <td>20.0</td>\n",
              "      <td>200000.0</td>\n",
              "      <td>Management</td>\n",
              "    </tr>\n",
              "  </tbody>\n",
              "</table>\n",
              "</div>\n",
              "      <button class=\"colab-df-convert\" onclick=\"convertToInteractive('df-5f95b63c-2baa-4b0b-9a8f-e73b88ac5973')\"\n",
              "              title=\"Convert this dataframe to an interactive table.\"\n",
              "              style=\"display:none;\">\n",
              "        \n",
              "  <svg xmlns=\"http://www.w3.org/2000/svg\" height=\"24px\"viewBox=\"0 0 24 24\"\n",
              "       width=\"24px\">\n",
              "    <path d=\"M0 0h24v24H0V0z\" fill=\"none\"/>\n",
              "    <path d=\"M18.56 5.44l.94 2.06.94-2.06 2.06-.94-2.06-.94-.94-2.06-.94 2.06-2.06.94zm-11 1L8.5 8.5l.94-2.06 2.06-.94-2.06-.94L8.5 2.5l-.94 2.06-2.06.94zm10 10l.94 2.06.94-2.06 2.06-.94-2.06-.94-.94-2.06-.94 2.06-2.06.94z\"/><path d=\"M17.41 7.96l-1.37-1.37c-.4-.4-.92-.59-1.43-.59-.52 0-1.04.2-1.43.59L10.3 9.45l-7.72 7.72c-.78.78-.78 2.05 0 2.83L4 21.41c.39.39.9.59 1.41.59.51 0 1.02-.2 1.41-.59l7.78-7.78 2.81-2.81c.8-.78.8-2.07 0-2.86zM5.41 20L4 18.59l7.72-7.72 1.47 1.35L5.41 20z\"/>\n",
              "  </svg>\n",
              "      </button>\n",
              "      \n",
              "  <style>\n",
              "    .colab-df-container {\n",
              "      display:flex;\n",
              "      flex-wrap:wrap;\n",
              "      gap: 12px;\n",
              "    }\n",
              "\n",
              "    .colab-df-convert {\n",
              "      background-color: #E8F0FE;\n",
              "      border: none;\n",
              "      border-radius: 50%;\n",
              "      cursor: pointer;\n",
              "      display: none;\n",
              "      fill: #1967D2;\n",
              "      height: 32px;\n",
              "      padding: 0 0 0 0;\n",
              "      width: 32px;\n",
              "    }\n",
              "\n",
              "    .colab-df-convert:hover {\n",
              "      background-color: #E2EBFA;\n",
              "      box-shadow: 0px 1px 2px rgba(60, 64, 67, 0.3), 0px 1px 3px 1px rgba(60, 64, 67, 0.15);\n",
              "      fill: #174EA6;\n",
              "    }\n",
              "\n",
              "    [theme=dark] .colab-df-convert {\n",
              "      background-color: #3B4455;\n",
              "      fill: #D2E3FC;\n",
              "    }\n",
              "\n",
              "    [theme=dark] .colab-df-convert:hover {\n",
              "      background-color: #434B5C;\n",
              "      box-shadow: 0px 1px 3px 1px rgba(0, 0, 0, 0.15);\n",
              "      filter: drop-shadow(0px 1px 2px rgba(0, 0, 0, 0.3));\n",
              "      fill: #FFFFFF;\n",
              "    }\n",
              "  </style>\n",
              "\n",
              "      <script>\n",
              "        const buttonEl =\n",
              "          document.querySelector('#df-5f95b63c-2baa-4b0b-9a8f-e73b88ac5973 button.colab-df-convert');\n",
              "        buttonEl.style.display =\n",
              "          google.colab.kernel.accessAllowed ? 'block' : 'none';\n",
              "\n",
              "        async function convertToInteractive(key) {\n",
              "          const element = document.querySelector('#df-5f95b63c-2baa-4b0b-9a8f-e73b88ac5973');\n",
              "          const dataTable =\n",
              "            await google.colab.kernel.invokeFunction('convertToInteractive',\n",
              "                                                     [key], {});\n",
              "          if (!dataTable) return;\n",
              "\n",
              "          const docLinkHtml = 'Like what you see? Visit the ' +\n",
              "            '<a target=\"_blank\" href=https://colab.research.google.com/notebooks/data_table.ipynb>data table notebook</a>'\n",
              "            + ' to learn more about interactive tables.';\n",
              "          element.innerHTML = '';\n",
              "          dataTable['output_type'] = 'display_data';\n",
              "          await google.colab.output.renderOutput(dataTable, element);\n",
              "          const docLink = document.createElement('div');\n",
              "          docLink.innerHTML = docLinkHtml;\n",
              "          element.appendChild(docLink);\n",
              "        }\n",
              "      </script>\n",
              "    </div>\n",
              "  </div>\n",
              "  "
            ],
            "text/plain": [
              "    Age  Gender    Education Level  Years of Experience    Salary    Job Title\n",
              "0  32.0    Male  Bachelor's Degree                  5.0   90000.0  Engineering\n",
              "1  28.0  Female    Master's Degree                  3.0   65000.0  Engineering\n",
              "2  45.0    Male                PhD                 15.0  150000.0   Management\n",
              "3  36.0  Female  Bachelor's Degree                  7.0   60000.0        Sales\n",
              "4  52.0    Male    Master's Degree                 20.0  200000.0   Management"
            ]
          },
          "execution_count": 51,
          "metadata": {},
          "output_type": "execute_result"
        }
      ],
      "source": [
        "df.head()"
      ]
    },
    {
      "cell_type": "code",
      "execution_count": 52,
      "metadata": {
        "colab": {
          "base_uri": "https://localhost:8080/"
        },
        "id": "G6CMnjpI2xHO",
        "outputId": "2b24a80d-0368-4c03-92a3-250ecf5387b5"
      },
      "outputs": [
        {
          "name": "stdout",
          "output_type": "stream",
          "text": [
            "NaN counts per column:\n",
            "Age                    0\n",
            "Gender                 0\n",
            "Education Level        0\n",
            "Years of Experience    0\n",
            "Salary                 0\n",
            "Job Title              0\n",
            "dtype: int64\n"
          ]
        }
      ],
      "source": [
        "nan_counts = df.isna().sum()\n",
        "\n",
        "# Display the number of NaN values in each column\n",
        "print(\"NaN counts per column:\")\n",
        "print(nan_counts)"
      ]
    },
    {
      "cell_type": "code",
      "execution_count": 53,
      "metadata": {
        "id": "7tKcxQ5V21p3"
      },
      "outputs": [],
      "source": [
        "df=pd.get_dummies(df)\n",
        "X=df.drop(\"Salary\",axis=1)\n",
        "y=df['Salary']"
      ]
    },
    {
      "cell_type": "code",
      "execution_count": 54,
      "metadata": {
        "colab": {
          "base_uri": "https://localhost:8080/",
          "height": 248
        },
        "id": "VPYQKoos3a0W",
        "outputId": "4c4aa321-65fe-49b0-95d8-f34fcd93bb06"
      },
      "outputs": [
        {
          "data": {
            "text/html": [
              "<style>#sk-container-id-2 {color: black;background-color: white;}#sk-container-id-2 pre{padding: 0;}#sk-container-id-2 div.sk-toggleable {background-color: white;}#sk-container-id-2 label.sk-toggleable__label {cursor: pointer;display: block;width: 100%;margin-bottom: 0;padding: 0.3em;box-sizing: border-box;text-align: center;}#sk-container-id-2 label.sk-toggleable__label-arrow:before {content: \"▸\";float: left;margin-right: 0.25em;color: #696969;}#sk-container-id-2 label.sk-toggleable__label-arrow:hover:before {color: black;}#sk-container-id-2 div.sk-estimator:hover label.sk-toggleable__label-arrow:before {color: black;}#sk-container-id-2 div.sk-toggleable__content {max-height: 0;max-width: 0;overflow: hidden;text-align: left;background-color: #f0f8ff;}#sk-container-id-2 div.sk-toggleable__content pre {margin: 0.2em;color: black;border-radius: 0.25em;background-color: #f0f8ff;}#sk-container-id-2 input.sk-toggleable__control:checked~div.sk-toggleable__content {max-height: 200px;max-width: 100%;overflow: auto;}#sk-container-id-2 input.sk-toggleable__control:checked~label.sk-toggleable__label-arrow:before {content: \"▾\";}#sk-container-id-2 div.sk-estimator input.sk-toggleable__control:checked~label.sk-toggleable__label {background-color: #d4ebff;}#sk-container-id-2 div.sk-label input.sk-toggleable__control:checked~label.sk-toggleable__label {background-color: #d4ebff;}#sk-container-id-2 input.sk-hidden--visually {border: 0;clip: rect(1px 1px 1px 1px);clip: rect(1px, 1px, 1px, 1px);height: 1px;margin: -1px;overflow: hidden;padding: 0;position: absolute;width: 1px;}#sk-container-id-2 div.sk-estimator {font-family: monospace;background-color: #f0f8ff;border: 1px dotted black;border-radius: 0.25em;box-sizing: border-box;margin-bottom: 0.5em;}#sk-container-id-2 div.sk-estimator:hover {background-color: #d4ebff;}#sk-container-id-2 div.sk-parallel-item::after {content: \"\";width: 100%;border-bottom: 1px solid gray;flex-grow: 1;}#sk-container-id-2 div.sk-label:hover label.sk-toggleable__label {background-color: #d4ebff;}#sk-container-id-2 div.sk-serial::before {content: \"\";position: absolute;border-left: 1px solid gray;box-sizing: border-box;top: 0;bottom: 0;left: 50%;z-index: 0;}#sk-container-id-2 div.sk-serial {display: flex;flex-direction: column;align-items: center;background-color: white;padding-right: 0.2em;padding-left: 0.2em;position: relative;}#sk-container-id-2 div.sk-item {position: relative;z-index: 1;}#sk-container-id-2 div.sk-parallel {display: flex;align-items: stretch;justify-content: center;background-color: white;position: relative;}#sk-container-id-2 div.sk-item::before, #sk-container-id-2 div.sk-parallel-item::before {content: \"\";position: absolute;border-left: 1px solid gray;box-sizing: border-box;top: 0;bottom: 0;left: 50%;z-index: -1;}#sk-container-id-2 div.sk-parallel-item {display: flex;flex-direction: column;z-index: 1;position: relative;background-color: white;}#sk-container-id-2 div.sk-parallel-item:first-child::after {align-self: flex-end;width: 50%;}#sk-container-id-2 div.sk-parallel-item:last-child::after {align-self: flex-start;width: 50%;}#sk-container-id-2 div.sk-parallel-item:only-child::after {width: 0;}#sk-container-id-2 div.sk-dashed-wrapped {border: 1px dashed gray;margin: 0 0.4em 0.5em 0.4em;box-sizing: border-box;padding-bottom: 0.4em;background-color: white;}#sk-container-id-2 div.sk-label label {font-family: monospace;font-weight: bold;display: inline-block;line-height: 1.2em;}#sk-container-id-2 div.sk-label-container {text-align: center;}#sk-container-id-2 div.sk-container {/* jupyter's `normalize.less` sets `[hidden] { display: none; }` but bootstrap.min.css set `[hidden] { display: none !important; }` so we also need the `!important` here to be able to override the default hidden behavior on the sphinx rendered scikit-learn.org. See: https://github.com/scikit-learn/scikit-learn/issues/21755 */display: inline-block !important;position: relative;}#sk-container-id-2 div.sk-text-repr-fallback {display: none;}</style><div id=\"sk-container-id-2\" class=\"sk-top-container\"><div class=\"sk-text-repr-fallback\"><pre>XGBRegressor(base_score=None, booster=None, callbacks=None,\n",
              "             colsample_bylevel=None, colsample_bynode=None,\n",
              "             colsample_bytree=None, early_stopping_rounds=None,\n",
              "             enable_categorical=False, eval_metric=None, feature_types=None,\n",
              "             gamma=None, gpu_id=None, grow_policy=None, importance_type=None,\n",
              "             interaction_constraints=None, learning_rate=None, max_bin=None,\n",
              "             max_cat_threshold=None, max_cat_to_onehot=None,\n",
              "             max_delta_step=None, max_depth=None, max_leaves=None,\n",
              "             min_child_weight=None, missing=nan, monotone_constraints=None,\n",
              "             n_estimators=100, n_jobs=None, num_parallel_tree=None,\n",
              "             predictor=None, random_state=None, ...)</pre><b>In a Jupyter environment, please rerun this cell to show the HTML representation or trust the notebook. <br />On GitHub, the HTML representation is unable to render, please try loading this page with nbviewer.org.</b></div><div class=\"sk-container\" hidden><div class=\"sk-item\"><div class=\"sk-estimator sk-toggleable\"><input class=\"sk-toggleable__control sk-hidden--visually\" id=\"sk-estimator-id-2\" type=\"checkbox\" checked><label for=\"sk-estimator-id-2\" class=\"sk-toggleable__label sk-toggleable__label-arrow\">XGBRegressor</label><div class=\"sk-toggleable__content\"><pre>XGBRegressor(base_score=None, booster=None, callbacks=None,\n",
              "             colsample_bylevel=None, colsample_bynode=None,\n",
              "             colsample_bytree=None, early_stopping_rounds=None,\n",
              "             enable_categorical=False, eval_metric=None, feature_types=None,\n",
              "             gamma=None, gpu_id=None, grow_policy=None, importance_type=None,\n",
              "             interaction_constraints=None, learning_rate=None, max_bin=None,\n",
              "             max_cat_threshold=None, max_cat_to_onehot=None,\n",
              "             max_delta_step=None, max_depth=None, max_leaves=None,\n",
              "             min_child_weight=None, missing=nan, monotone_constraints=None,\n",
              "             n_estimators=100, n_jobs=None, num_parallel_tree=None,\n",
              "             predictor=None, random_state=None, ...)</pre></div></div></div></div></div>"
            ],
            "text/plain": [
              "XGBRegressor(base_score=None, booster=None, callbacks=None,\n",
              "             colsample_bylevel=None, colsample_bynode=None,\n",
              "             colsample_bytree=None, early_stopping_rounds=None,\n",
              "             enable_categorical=False, eval_metric=None, feature_types=None,\n",
              "             gamma=None, gpu_id=None, grow_policy=None, importance_type=None,\n",
              "             interaction_constraints=None, learning_rate=None, max_bin=None,\n",
              "             max_cat_threshold=None, max_cat_to_onehot=None,\n",
              "             max_delta_step=None, max_depth=None, max_leaves=None,\n",
              "             min_child_weight=None, missing=nan, monotone_constraints=None,\n",
              "             n_estimators=100, n_jobs=None, num_parallel_tree=None,\n",
              "             predictor=None, random_state=None, ...)"
            ]
          },
          "execution_count": 54,
          "metadata": {},
          "output_type": "execute_result"
        }
      ],
      "source": [
        "import xgboost as xgb\n",
        "from sklearn.model_selection import train_test_split\n",
        "from sklearn.metrics import mean_squared_error\n",
        "import pandas as pd\n",
        "\n",
        "# Assuming you have your feature data in a DataFrame 'X' and target variable in a Series 'y'\n",
        "\n",
        "# Split the data into training and testing sets\n",
        "X_train, X_test, y_train, y_test = train_test_split(X, y, test_size=0.2, random_state=42)\n",
        "\n",
        "# Create an instance of the XGBoost regressor\n",
        "xgb_reg = xgb.XGBRegressor()\n",
        "\n",
        "# Fit the regressor to the training data\n",
        "xgb_reg.fit(X_train, y_train)"
      ]
    },
    {
      "cell_type": "code",
      "execution_count": 55,
      "metadata": {
        "id": "Hf_YVmya3m0S"
      },
      "outputs": [],
      "source": [
        "\n",
        "y_pred = xgb_reg.predict(X_test)"
      ]
    },
    {
      "cell_type": "code",
      "execution_count": 56,
      "metadata": {
        "colab": {
          "base_uri": "https://localhost:8080/"
        },
        "id": "6374Ud8W4HqV",
        "outputId": "a0b4d028-6944-45cb-d856-718cfba7db6a"
      },
      "outputs": [
        {
          "name": "stdout",
          "output_type": "stream",
          "text": [
            "R-squared Score: 0.9432106080304024\n"
          ]
        }
      ],
      "source": [
        "from sklearn.metrics import accuracy_score, precision_score, recall_score, f1_score, roc_auc_score\n",
        "\n",
        "\n",
        "r2_score = xgb_reg.score(X_test, y_test)\n",
        "\n",
        "print(\"R-squared Score:\", r2_score)"
      ]
    },
    {
      "cell_type": "code",
      "execution_count": 60,
      "metadata": {
        "id": "H4XZZdFc3dS8"
      },
      "outputs": [],
      "source": [
        "pickle.dump(xgb_reg, open('model.pkl','wb'))"
      ]
    },
    {
      "cell_type": "code",
      "execution_count": 59,
      "metadata": {
        "id": "_kLHeKJG5VEI"
      },
      "outputs": [],
      "source": [
        "model = pickle.load(open('model.pkl','rb'))"
      ]
    }
  ],
  "metadata": {
    "colab": {
      "provenance": []
    },
    "kernelspec": {
      "display_name": "Python 3",
      "name": "python3"
    },
    "language_info": {
      "codemirror_mode": {
        "name": "ipython",
        "version": 3
      },
      "file_extension": ".py",
      "mimetype": "text/x-python",
      "name": "python",
      "nbconvert_exporter": "python",
      "pygments_lexer": "ipython3",
      "version": "3.9.6"
    }
  },
  "nbformat": 4,
  "nbformat_minor": 0
}
